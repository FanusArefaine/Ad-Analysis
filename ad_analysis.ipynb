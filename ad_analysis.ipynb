{
 "metadata": {
  "language_info": {
   "codemirror_mode": {
    "name": "ipython",
    "version": 3
   },
   "file_extension": ".py",
   "mimetype": "text/x-python",
   "name": "python",
   "nbconvert_exporter": "python",
   "pygments_lexer": "ipython3",
   "version": "3.6.10-final"
  },
  "orig_nbformat": 2,
  "kernelspec": {
   "name": "python361064bittensorflowconda0aaac7ec2512440c880b9d55ddeeefc5",
   "display_name": "Python 3.6.10 64-bit ('tensorflow': conda)"
  }
 },
 "nbformat": 4,
 "nbformat_minor": 2,
 "cells": [
  {
   "cell_type": "markdown",
   "metadata": {},
   "source": [
    "# Ad_Analysis"
   ]
  },
  {
   "cell_type": "markdown",
   "metadata": {},
   "source": [
    "## 1.0 Importing Essential Libraries"
   ]
  },
  {
   "cell_type": "code",
   "execution_count": 62,
   "metadata": {},
   "outputs": [],
   "source": [
    "import numpy as np \n",
    "import pandas as pd \n",
    "import seaborn as sns\n",
    "import matplotlib as plt\n",
    "\n",
    "from sklearn.cluster import KMeans\n",
    "\n",
    "%matplotlib inline"
   ]
  },
  {
   "cell_type": "markdown",
   "metadata": {},
   "source": [
    "## 2.0 Loading dataset"
   ]
  },
  {
   "cell_type": "code",
   "execution_count": 4,
   "metadata": {},
   "outputs": [
    {
     "output_type": "execute_result",
     "data": {
      "text/plain": "      date  shown  clicked  converted  avg_cost_per_click  total_revenue  \\\n0  10/1/15  65877     2339         43                0.90         641.62   \n1  10/2/15  65100     2498         38                0.94         756.37   \n2  10/3/15  70658     2313         49                0.86         970.90   \n3  10/4/15  69809     2833         51                1.01         907.39   \n4  10/5/15  68186     2696         41                1.00         879.45   \n\n           ad  \n0  ad_group_1  \n1  ad_group_1  \n2  ad_group_1  \n3  ad_group_1  \n4  ad_group_1  ",
      "text/html": "<div>\n<style scoped>\n    .dataframe tbody tr th:only-of-type {\n        vertical-align: middle;\n    }\n\n    .dataframe tbody tr th {\n        vertical-align: top;\n    }\n\n    .dataframe thead th {\n        text-align: right;\n    }\n</style>\n<table border=\"1\" class=\"dataframe\">\n  <thead>\n    <tr style=\"text-align: right;\">\n      <th></th>\n      <th>date</th>\n      <th>shown</th>\n      <th>clicked</th>\n      <th>converted</th>\n      <th>avg_cost_per_click</th>\n      <th>total_revenue</th>\n      <th>ad</th>\n    </tr>\n  </thead>\n  <tbody>\n    <tr>\n      <th>0</th>\n      <td>10/1/15</td>\n      <td>65877</td>\n      <td>2339</td>\n      <td>43</td>\n      <td>0.90</td>\n      <td>641.62</td>\n      <td>ad_group_1</td>\n    </tr>\n    <tr>\n      <th>1</th>\n      <td>10/2/15</td>\n      <td>65100</td>\n      <td>2498</td>\n      <td>38</td>\n      <td>0.94</td>\n      <td>756.37</td>\n      <td>ad_group_1</td>\n    </tr>\n    <tr>\n      <th>2</th>\n      <td>10/3/15</td>\n      <td>70658</td>\n      <td>2313</td>\n      <td>49</td>\n      <td>0.86</td>\n      <td>970.90</td>\n      <td>ad_group_1</td>\n    </tr>\n    <tr>\n      <th>3</th>\n      <td>10/4/15</td>\n      <td>69809</td>\n      <td>2833</td>\n      <td>51</td>\n      <td>1.01</td>\n      <td>907.39</td>\n      <td>ad_group_1</td>\n    </tr>\n    <tr>\n      <th>4</th>\n      <td>10/5/15</td>\n      <td>68186</td>\n      <td>2696</td>\n      <td>41</td>\n      <td>1.00</td>\n      <td>879.45</td>\n      <td>ad_group_1</td>\n    </tr>\n  </tbody>\n</table>\n</div>"
     },
     "metadata": {},
     "execution_count": 4
    }
   ],
   "source": [
    "ad_df = pd.read_csv('ad_table.csv')\n",
    "ad_df.head()"
   ]
  },
  {
   "cell_type": "markdown",
   "metadata": {},
   "source": [
    "## 3.0 Exploring The Data"
   ]
  },
  {
   "cell_type": "code",
   "execution_count": 5,
   "metadata": {},
   "outputs": [
    {
     "output_type": "execute_result",
     "data": {
      "text/plain": "(2115, 7)"
     },
     "metadata": {},
     "execution_count": 5
    }
   ],
   "source": [
    "# Shape of the data\n",
    "ad_df.shape"
   ]
  },
  {
   "cell_type": "code",
   "execution_count": 6,
   "metadata": {
    "tags": []
   },
   "outputs": [
    {
     "output_type": "stream",
     "name": "stdout",
     "text": "<class 'pandas.core.frame.DataFrame'>\nRangeIndex: 2115 entries, 0 to 2114\nData columns (total 7 columns):\n #   Column              Non-Null Count  Dtype  \n---  ------              --------------  -----  \n 0   date                2115 non-null   object \n 1   shown               2115 non-null   int64  \n 2   clicked             2115 non-null   int64  \n 3   converted           2115 non-null   int64  \n 4   avg_cost_per_click  2115 non-null   float64\n 5   total_revenue       2115 non-null   float64\n 6   ad                  2115 non-null   object \ndtypes: float64(2), int64(3), object(2)\nmemory usage: 115.8+ KB\n"
    }
   ],
   "source": [
    "# information about the dataset\n",
    "ad_df.info()"
   ]
  },
  {
   "cell_type": "code",
   "execution_count": 7,
   "metadata": {},
   "outputs": [
    {
     "output_type": "execute_result",
     "data": {
      "text/plain": "                     count          mean           std     min       25%  \\\nshown               2115.0  68299.844444  48884.821409    0.00  28030.50   \nclicked             2115.0   3056.077069   3783.579969    0.00    744.00   \nconverted           2115.0    126.453901    233.420826    0.00     18.00   \navg_cost_per_click  2115.0      1.373749      0.754331    0.00      0.76   \ntotal_revenue       2115.0   1966.517589   3942.018757 -200.15    235.47   \n\n                        50%        75%        max  \nshown               54029.0  97314.500  192507.00  \nclicked              1392.0   3366.500   20848.00  \nconverted              41.0    103.000    1578.00  \navg_cost_per_click      1.4      1.920       4.19  \ntotal_revenue         553.3   1611.495   39623.71  ",
      "text/html": "<div>\n<style scoped>\n    .dataframe tbody tr th:only-of-type {\n        vertical-align: middle;\n    }\n\n    .dataframe tbody tr th {\n        vertical-align: top;\n    }\n\n    .dataframe thead th {\n        text-align: right;\n    }\n</style>\n<table border=\"1\" class=\"dataframe\">\n  <thead>\n    <tr style=\"text-align: right;\">\n      <th></th>\n      <th>count</th>\n      <th>mean</th>\n      <th>std</th>\n      <th>min</th>\n      <th>25%</th>\n      <th>50%</th>\n      <th>75%</th>\n      <th>max</th>\n    </tr>\n  </thead>\n  <tbody>\n    <tr>\n      <th>shown</th>\n      <td>2115.0</td>\n      <td>68299.844444</td>\n      <td>48884.821409</td>\n      <td>0.00</td>\n      <td>28030.50</td>\n      <td>54029.0</td>\n      <td>97314.500</td>\n      <td>192507.00</td>\n    </tr>\n    <tr>\n      <th>clicked</th>\n      <td>2115.0</td>\n      <td>3056.077069</td>\n      <td>3783.579969</td>\n      <td>0.00</td>\n      <td>744.00</td>\n      <td>1392.0</td>\n      <td>3366.500</td>\n      <td>20848.00</td>\n    </tr>\n    <tr>\n      <th>converted</th>\n      <td>2115.0</td>\n      <td>126.453901</td>\n      <td>233.420826</td>\n      <td>0.00</td>\n      <td>18.00</td>\n      <td>41.0</td>\n      <td>103.000</td>\n      <td>1578.00</td>\n    </tr>\n    <tr>\n      <th>avg_cost_per_click</th>\n      <td>2115.0</td>\n      <td>1.373749</td>\n      <td>0.754331</td>\n      <td>0.00</td>\n      <td>0.76</td>\n      <td>1.4</td>\n      <td>1.920</td>\n      <td>4.19</td>\n    </tr>\n    <tr>\n      <th>total_revenue</th>\n      <td>2115.0</td>\n      <td>1966.517589</td>\n      <td>3942.018757</td>\n      <td>-200.15</td>\n      <td>235.47</td>\n      <td>553.3</td>\n      <td>1611.495</td>\n      <td>39623.71</td>\n    </tr>\n  </tbody>\n</table>\n</div>"
     },
     "metadata": {},
     "execution_count": 7
    }
   ],
   "source": [
    "# More info about the numerical dataset\n",
    "ad_df.describe().T"
   ]
  },
  {
   "cell_type": "code",
   "execution_count": 8,
   "metadata": {},
   "outputs": [
    {
     "output_type": "execute_result",
     "data": {
      "text/plain": "date                  0\nshown                 0\nclicked               0\nconverted             0\navg_cost_per_click    0\ntotal_revenue         0\nad                    0\ndtype: int64"
     },
     "metadata": {},
     "execution_count": 8
    }
   ],
   "source": [
    "# Checking for missing values\n",
    "\n",
    "# As seen below, the dataset doesnt have any missing values\n",
    "\n",
    "ad_df.isnull().sum()"
   ]
  },
  {
   "cell_type": "code",
   "execution_count": 19,
   "metadata": {},
   "outputs": [
    {
     "output_type": "execute_result",
     "data": {
      "text/plain": "                     shown       clicked    converted  avg_cost_per_click  \\\nad                                                                          \nad_group_1    69345.566038   2705.830189    47.113208            0.971321   \nad_group_10  117701.365385   1671.115385    19.538462            1.166154   \nad_group_11   18713.226415   1142.735849    55.377358            1.620566   \nad_group_12   28624.339623   1710.981132   156.509434            2.009623   \nad_group_13  155424.113208  13319.641509  1259.264151            1.674717   \nad_group_14    8461.096154    253.211538    20.961538            0.709231   \nad_group_15   15539.566038    356.566038    16.660377            0.802830   \nad_group_16   29595.075472    788.000000    69.849057            0.542642   \nad_group_17  139477.811321   1228.962264    14.358491            0.396792   \nad_group_18   89124.346154   8819.634615   616.134615            2.000192   \nad_group_19   19138.830189   1801.811321    47.264151            2.214906   \nad_group_2    51076.981132   1168.150943   117.905660            0.638113   \nad_group_20  120639.038462   7374.730769   343.634615            1.792500   \nad_group_21   27432.698113    247.245283    12.622642            1.065472   \nad_group_22   24333.094340    895.547170    41.320755            0.802453   \nad_group_23   46726.962264   2149.471698    93.396226            1.072830   \nad_group_24   36033.500000    352.903846     3.480769            3.183654   \nad_group_25  170847.773585    611.943396     0.000000            0.703774   \nad_group_26   72090.660377   6559.283019   328.245283            2.237547   \nad_group_27   65808.905660    540.679245    16.679245            0.379057   \nad_group_28   19886.339623   1770.792453    55.962264            1.970755   \nad_group_29   20679.433962   1312.754717    19.773585            1.635094   \nad_group_3   169248.924528  16073.320755    58.301887            2.682264   \nad_group_30  116388.358491   1273.754717    16.849057            1.094528   \nad_group_31  130457.132075    679.867925    59.094340            0.147358   \nad_group_32   38446.622642   3380.754717    26.754717            1.933396   \nad_group_33   15944.000000    735.226415    25.905660            0.927736   \nad_group_34   35371.622642   2979.169811   260.320755            1.733208   \nad_group_35   60303.396226    860.547170     1.735849            0.354528   \nad_group_36   67026.547170    554.981132    25.547170            0.750377   \nad_group_37   72666.811321   5865.188679   312.377358            1.898679   \nad_group_38  174986.075472  10948.867925    78.169811            1.394717   \nad_group_39   25258.679245   1000.867925     1.264151            1.594340   \nad_group_4    90548.584906   7504.849057   471.773585            2.449811   \nad_group_40   77424.547170   1282.660377    34.830189            0.995472   \nad_group_5    51417.660377   3280.094340   211.471698            1.989057   \nad_group_6    39575.264151   1326.905660    23.094340            1.585094   \nad_group_7    55782.132075   4869.698113    25.000000            1.812830   \nad_group_8    43938.396226   2655.490566    75.622642            1.961132   \nad_group_9   121083.018868    249.056604     1.000000            0.092642   \n\n             total_revenue  \nad                          \nad_group_1      743.015849  \nad_group_10     299.612115  \nad_group_11     767.024906  \nad_group_12    2439.359245  \nad_group_13   19904.943962  \nad_group_14     320.639615  \nad_group_15     253.585660  \nad_group_16    1056.845849  \nad_group_17     189.874717  \nad_group_18   10052.245769  \nad_group_19     717.727358  \nad_group_2     1783.559811  \nad_group_20    5402.474231  \nad_group_21     178.322453  \nad_group_22     627.441132  \nad_group_23    1347.900189  \nad_group_24      53.403654  \nad_group_25       0.000000  \nad_group_26    5192.878113  \nad_group_27     253.187170  \nad_group_28     864.178868  \nad_group_29     266.922642  \nad_group_3      867.241509  \nad_group_30     266.097170  \nad_group_31     860.718113  \nad_group_32     375.154340  \nad_group_33     366.206038  \nad_group_34    4019.534340  \nad_group_35      24.675094  \nad_group_36     379.212642  \nad_group_37    4743.911887  \nad_group_38    1102.008491  \nad_group_39      19.538491  \nad_group_4     7192.851132  \nad_group_40     520.321698  \nad_group_5     3506.778868  \nad_group_6      340.284340  \nad_group_7      410.156604  \nad_group_8     1054.843585  \nad_group_9       14.814340  ",
      "text/html": "<div>\n<style scoped>\n    .dataframe tbody tr th:only-of-type {\n        vertical-align: middle;\n    }\n\n    .dataframe tbody tr th {\n        vertical-align: top;\n    }\n\n    .dataframe thead th {\n        text-align: right;\n    }\n</style>\n<table border=\"1\" class=\"dataframe\">\n  <thead>\n    <tr style=\"text-align: right;\">\n      <th></th>\n      <th>shown</th>\n      <th>clicked</th>\n      <th>converted</th>\n      <th>avg_cost_per_click</th>\n      <th>total_revenue</th>\n    </tr>\n    <tr>\n      <th>ad</th>\n      <th></th>\n      <th></th>\n      <th></th>\n      <th></th>\n      <th></th>\n    </tr>\n  </thead>\n  <tbody>\n    <tr>\n      <th>ad_group_1</th>\n      <td>69345.566038</td>\n      <td>2705.830189</td>\n      <td>47.113208</td>\n      <td>0.971321</td>\n      <td>743.015849</td>\n    </tr>\n    <tr>\n      <th>ad_group_10</th>\n      <td>117701.365385</td>\n      <td>1671.115385</td>\n      <td>19.538462</td>\n      <td>1.166154</td>\n      <td>299.612115</td>\n    </tr>\n    <tr>\n      <th>ad_group_11</th>\n      <td>18713.226415</td>\n      <td>1142.735849</td>\n      <td>55.377358</td>\n      <td>1.620566</td>\n      <td>767.024906</td>\n    </tr>\n    <tr>\n      <th>ad_group_12</th>\n      <td>28624.339623</td>\n      <td>1710.981132</td>\n      <td>156.509434</td>\n      <td>2.009623</td>\n      <td>2439.359245</td>\n    </tr>\n    <tr>\n      <th>ad_group_13</th>\n      <td>155424.113208</td>\n      <td>13319.641509</td>\n      <td>1259.264151</td>\n      <td>1.674717</td>\n      <td>19904.943962</td>\n    </tr>\n    <tr>\n      <th>ad_group_14</th>\n      <td>8461.096154</td>\n      <td>253.211538</td>\n      <td>20.961538</td>\n      <td>0.709231</td>\n      <td>320.639615</td>\n    </tr>\n    <tr>\n      <th>ad_group_15</th>\n      <td>15539.566038</td>\n      <td>356.566038</td>\n      <td>16.660377</td>\n      <td>0.802830</td>\n      <td>253.585660</td>\n    </tr>\n    <tr>\n      <th>ad_group_16</th>\n      <td>29595.075472</td>\n      <td>788.000000</td>\n      <td>69.849057</td>\n      <td>0.542642</td>\n      <td>1056.845849</td>\n    </tr>\n    <tr>\n      <th>ad_group_17</th>\n      <td>139477.811321</td>\n      <td>1228.962264</td>\n      <td>14.358491</td>\n      <td>0.396792</td>\n      <td>189.874717</td>\n    </tr>\n    <tr>\n      <th>ad_group_18</th>\n      <td>89124.346154</td>\n      <td>8819.634615</td>\n      <td>616.134615</td>\n      <td>2.000192</td>\n      <td>10052.245769</td>\n    </tr>\n    <tr>\n      <th>ad_group_19</th>\n      <td>19138.830189</td>\n      <td>1801.811321</td>\n      <td>47.264151</td>\n      <td>2.214906</td>\n      <td>717.727358</td>\n    </tr>\n    <tr>\n      <th>ad_group_2</th>\n      <td>51076.981132</td>\n      <td>1168.150943</td>\n      <td>117.905660</td>\n      <td>0.638113</td>\n      <td>1783.559811</td>\n    </tr>\n    <tr>\n      <th>ad_group_20</th>\n      <td>120639.038462</td>\n      <td>7374.730769</td>\n      <td>343.634615</td>\n      <td>1.792500</td>\n      <td>5402.474231</td>\n    </tr>\n    <tr>\n      <th>ad_group_21</th>\n      <td>27432.698113</td>\n      <td>247.245283</td>\n      <td>12.622642</td>\n      <td>1.065472</td>\n      <td>178.322453</td>\n    </tr>\n    <tr>\n      <th>ad_group_22</th>\n      <td>24333.094340</td>\n      <td>895.547170</td>\n      <td>41.320755</td>\n      <td>0.802453</td>\n      <td>627.441132</td>\n    </tr>\n    <tr>\n      <th>ad_group_23</th>\n      <td>46726.962264</td>\n      <td>2149.471698</td>\n      <td>93.396226</td>\n      <td>1.072830</td>\n      <td>1347.900189</td>\n    </tr>\n    <tr>\n      <th>ad_group_24</th>\n      <td>36033.500000</td>\n      <td>352.903846</td>\n      <td>3.480769</td>\n      <td>3.183654</td>\n      <td>53.403654</td>\n    </tr>\n    <tr>\n      <th>ad_group_25</th>\n      <td>170847.773585</td>\n      <td>611.943396</td>\n      <td>0.000000</td>\n      <td>0.703774</td>\n      <td>0.000000</td>\n    </tr>\n    <tr>\n      <th>ad_group_26</th>\n      <td>72090.660377</td>\n      <td>6559.283019</td>\n      <td>328.245283</td>\n      <td>2.237547</td>\n      <td>5192.878113</td>\n    </tr>\n    <tr>\n      <th>ad_group_27</th>\n      <td>65808.905660</td>\n      <td>540.679245</td>\n      <td>16.679245</td>\n      <td>0.379057</td>\n      <td>253.187170</td>\n    </tr>\n    <tr>\n      <th>ad_group_28</th>\n      <td>19886.339623</td>\n      <td>1770.792453</td>\n      <td>55.962264</td>\n      <td>1.970755</td>\n      <td>864.178868</td>\n    </tr>\n    <tr>\n      <th>ad_group_29</th>\n      <td>20679.433962</td>\n      <td>1312.754717</td>\n      <td>19.773585</td>\n      <td>1.635094</td>\n      <td>266.922642</td>\n    </tr>\n    <tr>\n      <th>ad_group_3</th>\n      <td>169248.924528</td>\n      <td>16073.320755</td>\n      <td>58.301887</td>\n      <td>2.682264</td>\n      <td>867.241509</td>\n    </tr>\n    <tr>\n      <th>ad_group_30</th>\n      <td>116388.358491</td>\n      <td>1273.754717</td>\n      <td>16.849057</td>\n      <td>1.094528</td>\n      <td>266.097170</td>\n    </tr>\n    <tr>\n      <th>ad_group_31</th>\n      <td>130457.132075</td>\n      <td>679.867925</td>\n      <td>59.094340</td>\n      <td>0.147358</td>\n      <td>860.718113</td>\n    </tr>\n    <tr>\n      <th>ad_group_32</th>\n      <td>38446.622642</td>\n      <td>3380.754717</td>\n      <td>26.754717</td>\n      <td>1.933396</td>\n      <td>375.154340</td>\n    </tr>\n    <tr>\n      <th>ad_group_33</th>\n      <td>15944.000000</td>\n      <td>735.226415</td>\n      <td>25.905660</td>\n      <td>0.927736</td>\n      <td>366.206038</td>\n    </tr>\n    <tr>\n      <th>ad_group_34</th>\n      <td>35371.622642</td>\n      <td>2979.169811</td>\n      <td>260.320755</td>\n      <td>1.733208</td>\n      <td>4019.534340</td>\n    </tr>\n    <tr>\n      <th>ad_group_35</th>\n      <td>60303.396226</td>\n      <td>860.547170</td>\n      <td>1.735849</td>\n      <td>0.354528</td>\n      <td>24.675094</td>\n    </tr>\n    <tr>\n      <th>ad_group_36</th>\n      <td>67026.547170</td>\n      <td>554.981132</td>\n      <td>25.547170</td>\n      <td>0.750377</td>\n      <td>379.212642</td>\n    </tr>\n    <tr>\n      <th>ad_group_37</th>\n      <td>72666.811321</td>\n      <td>5865.188679</td>\n      <td>312.377358</td>\n      <td>1.898679</td>\n      <td>4743.911887</td>\n    </tr>\n    <tr>\n      <th>ad_group_38</th>\n      <td>174986.075472</td>\n      <td>10948.867925</td>\n      <td>78.169811</td>\n      <td>1.394717</td>\n      <td>1102.008491</td>\n    </tr>\n    <tr>\n      <th>ad_group_39</th>\n      <td>25258.679245</td>\n      <td>1000.867925</td>\n      <td>1.264151</td>\n      <td>1.594340</td>\n      <td>19.538491</td>\n    </tr>\n    <tr>\n      <th>ad_group_4</th>\n      <td>90548.584906</td>\n      <td>7504.849057</td>\n      <td>471.773585</td>\n      <td>2.449811</td>\n      <td>7192.851132</td>\n    </tr>\n    <tr>\n      <th>ad_group_40</th>\n      <td>77424.547170</td>\n      <td>1282.660377</td>\n      <td>34.830189</td>\n      <td>0.995472</td>\n      <td>520.321698</td>\n    </tr>\n    <tr>\n      <th>ad_group_5</th>\n      <td>51417.660377</td>\n      <td>3280.094340</td>\n      <td>211.471698</td>\n      <td>1.989057</td>\n      <td>3506.778868</td>\n    </tr>\n    <tr>\n      <th>ad_group_6</th>\n      <td>39575.264151</td>\n      <td>1326.905660</td>\n      <td>23.094340</td>\n      <td>1.585094</td>\n      <td>340.284340</td>\n    </tr>\n    <tr>\n      <th>ad_group_7</th>\n      <td>55782.132075</td>\n      <td>4869.698113</td>\n      <td>25.000000</td>\n      <td>1.812830</td>\n      <td>410.156604</td>\n    </tr>\n    <tr>\n      <th>ad_group_8</th>\n      <td>43938.396226</td>\n      <td>2655.490566</td>\n      <td>75.622642</td>\n      <td>1.961132</td>\n      <td>1054.843585</td>\n    </tr>\n    <tr>\n      <th>ad_group_9</th>\n      <td>121083.018868</td>\n      <td>249.056604</td>\n      <td>1.000000</td>\n      <td>0.092642</td>\n      <td>14.814340</td>\n    </tr>\n  </tbody>\n</table>\n</div>"
     },
     "metadata": {},
     "execution_count": 19
    }
   ],
   "source": [
    "# showing parameters by ad groups\n",
    "\n",
    "ad_df.groupby('ad').mean()"
   ]
  },
  {
   "cell_type": "code",
   "execution_count": 29,
   "metadata": {},
   "outputs": [
    {
     "output_type": "execute_result",
     "data": {
      "text/plain": "               converted\nad                      \nad_group_1     47.113208\nad_group_10    19.538462\nad_group_11    55.377358\nad_group_12   156.509434\nad_group_13  1259.264151\nad_group_14    20.961538\nad_group_15    16.660377\nad_group_16    69.849057\nad_group_17    14.358491\nad_group_18   616.134615\nad_group_19    47.264151\nad_group_2    117.905660\nad_group_20   343.634615\nad_group_21    12.622642\nad_group_22    41.320755\nad_group_23    93.396226\nad_group_24     3.480769\nad_group_25     0.000000\nad_group_26   328.245283\nad_group_27    16.679245\nad_group_28    55.962264\nad_group_29    19.773585\nad_group_3     58.301887\nad_group_30    16.849057\nad_group_31    59.094340\nad_group_32    26.754717\nad_group_33    25.905660\nad_group_34   260.320755\nad_group_35     1.735849\nad_group_36    25.547170\nad_group_37   312.377358\nad_group_38    78.169811\nad_group_39     1.264151\nad_group_4    471.773585\nad_group_40    34.830189\nad_group_5    211.471698\nad_group_6     23.094340\nad_group_7     25.000000\nad_group_8     75.622642\nad_group_9      1.000000",
      "text/html": "<div>\n<style scoped>\n    .dataframe tbody tr th:only-of-type {\n        vertical-align: middle;\n    }\n\n    .dataframe tbody tr th {\n        vertical-align: top;\n    }\n\n    .dataframe thead th {\n        text-align: right;\n    }\n</style>\n<table border=\"1\" class=\"dataframe\">\n  <thead>\n    <tr style=\"text-align: right;\">\n      <th></th>\n      <th>converted</th>\n    </tr>\n    <tr>\n      <th>ad</th>\n      <th></th>\n    </tr>\n  </thead>\n  <tbody>\n    <tr>\n      <th>ad_group_1</th>\n      <td>47.113208</td>\n    </tr>\n    <tr>\n      <th>ad_group_10</th>\n      <td>19.538462</td>\n    </tr>\n    <tr>\n      <th>ad_group_11</th>\n      <td>55.377358</td>\n    </tr>\n    <tr>\n      <th>ad_group_12</th>\n      <td>156.509434</td>\n    </tr>\n    <tr>\n      <th>ad_group_13</th>\n      <td>1259.264151</td>\n    </tr>\n    <tr>\n      <th>ad_group_14</th>\n      <td>20.961538</td>\n    </tr>\n    <tr>\n      <th>ad_group_15</th>\n      <td>16.660377</td>\n    </tr>\n    <tr>\n      <th>ad_group_16</th>\n      <td>69.849057</td>\n    </tr>\n    <tr>\n      <th>ad_group_17</th>\n      <td>14.358491</td>\n    </tr>\n    <tr>\n      <th>ad_group_18</th>\n      <td>616.134615</td>\n    </tr>\n    <tr>\n      <th>ad_group_19</th>\n      <td>47.264151</td>\n    </tr>\n    <tr>\n      <th>ad_group_2</th>\n      <td>117.905660</td>\n    </tr>\n    <tr>\n      <th>ad_group_20</th>\n      <td>343.634615</td>\n    </tr>\n    <tr>\n      <th>ad_group_21</th>\n      <td>12.622642</td>\n    </tr>\n    <tr>\n      <th>ad_group_22</th>\n      <td>41.320755</td>\n    </tr>\n    <tr>\n      <th>ad_group_23</th>\n      <td>93.396226</td>\n    </tr>\n    <tr>\n      <th>ad_group_24</th>\n      <td>3.480769</td>\n    </tr>\n    <tr>\n      <th>ad_group_25</th>\n      <td>0.000000</td>\n    </tr>\n    <tr>\n      <th>ad_group_26</th>\n      <td>328.245283</td>\n    </tr>\n    <tr>\n      <th>ad_group_27</th>\n      <td>16.679245</td>\n    </tr>\n    <tr>\n      <th>ad_group_28</th>\n      <td>55.962264</td>\n    </tr>\n    <tr>\n      <th>ad_group_29</th>\n      <td>19.773585</td>\n    </tr>\n    <tr>\n      <th>ad_group_3</th>\n      <td>58.301887</td>\n    </tr>\n    <tr>\n      <th>ad_group_30</th>\n      <td>16.849057</td>\n    </tr>\n    <tr>\n      <th>ad_group_31</th>\n      <td>59.094340</td>\n    </tr>\n    <tr>\n      <th>ad_group_32</th>\n      <td>26.754717</td>\n    </tr>\n    <tr>\n      <th>ad_group_33</th>\n      <td>25.905660</td>\n    </tr>\n    <tr>\n      <th>ad_group_34</th>\n      <td>260.320755</td>\n    </tr>\n    <tr>\n      <th>ad_group_35</th>\n      <td>1.735849</td>\n    </tr>\n    <tr>\n      <th>ad_group_36</th>\n      <td>25.547170</td>\n    </tr>\n    <tr>\n      <th>ad_group_37</th>\n      <td>312.377358</td>\n    </tr>\n    <tr>\n      <th>ad_group_38</th>\n      <td>78.169811</td>\n    </tr>\n    <tr>\n      <th>ad_group_39</th>\n      <td>1.264151</td>\n    </tr>\n    <tr>\n      <th>ad_group_4</th>\n      <td>471.773585</td>\n    </tr>\n    <tr>\n      <th>ad_group_40</th>\n      <td>34.830189</td>\n    </tr>\n    <tr>\n      <th>ad_group_5</th>\n      <td>211.471698</td>\n    </tr>\n    <tr>\n      <th>ad_group_6</th>\n      <td>23.094340</td>\n    </tr>\n    <tr>\n      <th>ad_group_7</th>\n      <td>25.000000</td>\n    </tr>\n    <tr>\n      <th>ad_group_8</th>\n      <td>75.622642</td>\n    </tr>\n    <tr>\n      <th>ad_group_9</th>\n      <td>1.000000</td>\n    </tr>\n  </tbody>\n</table>\n</div>"
     },
     "metadata": {},
     "execution_count": 29
    }
   ],
   "source": [
    "# It is clear from the table below that some ads have converted way better than others\n",
    "\n",
    "ad_df.groupby('ad').mean()[['converted']]"
   ]
  },
  {
   "cell_type": "markdown",
   "metadata": {},
   "source": [
    "# Challenge Question - 1"
   ]
  },
  {
   "cell_type": "markdown",
   "metadata": {},
   "source": [
    "      1. If you had to identify the 5 best ad groups, which ones would they be? Which metric did\n",
    "    you choose to identify the best ad groups? Why? Explain the pros of your metric as well\n",
    "    as the possible cons."
   ]
  },
  {
   "cell_type": "markdown",
   "metadata": {},
   "source": [
    "### Metric Used\n",
    "\n",
    "    * The best five ad groups can be identified based on various metrics. For this analysis, I believe overall profit from an ad group would be perfect since they are intended to make us profits. \n",
    "\n",
    "    * Hence, the profit should be computed as total revenue obtained from the ad subtracted by the total cost the company paid per click\n",
    "\n",
    "    * Profit = (Total Revenue - (Average cost per click * number of times the ad is clicked))/ Number of times the add is shown"
   ]
  },
  {
   "cell_type": "markdown",
   "metadata": {},
   "source": [
    "### Pros and Cons"
   ]
  },
  {
   "cell_type": "markdown",
   "metadata": {},
   "source": [
    "    * Pros \n",
    "        - The metric fully considers the money involved (revenue and cost) with each ad \n",
    "        - priortize direct purpose of ads - to make profits\n",
    "\n",
    "    * Cons \n",
    "        - The metric doesnt consider conversion rate\n",
    "        - The metric might be biased towards the amount of time an ad is shown to user and cost\n"
   ]
  },
  {
   "cell_type": "code",
   "execution_count": 49,
   "metadata": {},
   "outputs": [
    {
     "output_type": "execute_result",
     "data": {
      "text/plain": "      date  shown  clicked  converted  avg_cost_per_click  total_revenue  \\\n0  10/1/15  65877     2339         43                0.90         641.62   \n1  10/2/15  65100     2498         38                0.94         756.37   \n2  10/3/15  70658     2313         49                0.86         970.90   \n3  10/4/15  69809     2833         51                1.01         907.39   \n4  10/5/15  68186     2696         41                1.00         879.45   \n\n           ad   profit  \n0  ad_group_1 -1463.48  \n1  ad_group_1 -1591.75  \n2  ad_group_1 -1018.28  \n3  ad_group_1 -1953.94  \n4  ad_group_1 -1816.55  ",
      "text/html": "<div>\n<style scoped>\n    .dataframe tbody tr th:only-of-type {\n        vertical-align: middle;\n    }\n\n    .dataframe tbody tr th {\n        vertical-align: top;\n    }\n\n    .dataframe thead th {\n        text-align: right;\n    }\n</style>\n<table border=\"1\" class=\"dataframe\">\n  <thead>\n    <tr style=\"text-align: right;\">\n      <th></th>\n      <th>date</th>\n      <th>shown</th>\n      <th>clicked</th>\n      <th>converted</th>\n      <th>avg_cost_per_click</th>\n      <th>total_revenue</th>\n      <th>ad</th>\n      <th>profit</th>\n    </tr>\n  </thead>\n  <tbody>\n    <tr>\n      <th>0</th>\n      <td>10/1/15</td>\n      <td>65877</td>\n      <td>2339</td>\n      <td>43</td>\n      <td>0.90</td>\n      <td>641.62</td>\n      <td>ad_group_1</td>\n      <td>-1463.48</td>\n    </tr>\n    <tr>\n      <th>1</th>\n      <td>10/2/15</td>\n      <td>65100</td>\n      <td>2498</td>\n      <td>38</td>\n      <td>0.94</td>\n      <td>756.37</td>\n      <td>ad_group_1</td>\n      <td>-1591.75</td>\n    </tr>\n    <tr>\n      <th>2</th>\n      <td>10/3/15</td>\n      <td>70658</td>\n      <td>2313</td>\n      <td>49</td>\n      <td>0.86</td>\n      <td>970.90</td>\n      <td>ad_group_1</td>\n      <td>-1018.28</td>\n    </tr>\n    <tr>\n      <th>3</th>\n      <td>10/4/15</td>\n      <td>69809</td>\n      <td>2833</td>\n      <td>51</td>\n      <td>1.01</td>\n      <td>907.39</td>\n      <td>ad_group_1</td>\n      <td>-1953.94</td>\n    </tr>\n    <tr>\n      <th>4</th>\n      <td>10/5/15</td>\n      <td>68186</td>\n      <td>2696</td>\n      <td>41</td>\n      <td>1.00</td>\n      <td>879.45</td>\n      <td>ad_group_1</td>\n      <td>-1816.55</td>\n    </tr>\n  </tbody>\n</table>\n</div>"
     },
     "metadata": {},
     "execution_count": 49
    }
   ],
   "source": [
    "# profit_per_show \n",
    "\n",
    "ad_df['profit'] = (ad_df['total_revenue'] - (ad_df['avg_cost_per_click']*ad_df['clicked']))\n",
    "ad_df.head()"
   ]
  },
  {
   "cell_type": "code",
   "execution_count": 52,
   "metadata": {},
   "outputs": [
    {
     "output_type": "execute_result",
     "data": {
      "text/plain": "(2115, 8)"
     },
     "metadata": {},
     "execution_count": 52
    }
   ],
   "source": [
    "ad_df.shape"
   ]
  },
  {
   "cell_type": "code",
   "execution_count": 57,
   "metadata": {},
   "outputs": [
    {
     "output_type": "execute_result",
     "data": {
      "text/plain": "                 profit    shown\nad                              \nad_group_1   -100802.69  3675315\nad_group_10   -85808.30  6120471\nad_group_11   -65985.38   991801\nad_group_12   -60901.57  1517090\nad_group_13  -182233.01  8237478\nad_group_14     7252.95   439977\nad_group_15    -1888.62   823597\nad_group_16    32179.55  1568539\nad_group_17   -15850.14  7392324\nad_group_18  -400822.23  4634466\nad_group_19  -179941.79  1014358\nad_group_2     54456.44  2707080\nad_group_20  -421822.75  6273230\nad_group_21    -5101.07  1453933\nad_group_22    -5101.02  1289654\nad_group_23   -57301.62  2476529\nad_group_24   -55763.86  1873742\nad_group_25   -23321.96  9054932\nad_group_26  -510406.11  3820805\nad_group_27     2528.73  3487872\nad_group_28  -140146.89  1053976\nad_group_29  -100634.04  1096010\nad_group_3  -2260971.23  8970193\nad_group_30   -59917.28  6168583\nad_group_31    40265.93  6914228\nad_group_32  -332060.59  2037671\nad_group_33   -17241.68   845032\nad_group_34   -63031.31  1874696\nad_group_35   -15035.29  3196080\nad_group_36    -1987.58  3552407\nad_group_37  -343485.18  3851341\nad_group_38  -756588.70  9274262\nad_group_39   -84212.22  1338710\nad_group_4   -643395.85  4799075\nad_group_40   -40464.42  4103501\nad_group_5   -168157.42  2725136\nad_group_6    -93731.40  2097489\nad_group_7   -450554.40  2956453\nad_group_8   -221157.50  2328735\nad_group_9      -441.44  6417400",
      "text/html": "<div>\n<style scoped>\n    .dataframe tbody tr th:only-of-type {\n        vertical-align: middle;\n    }\n\n    .dataframe tbody tr th {\n        vertical-align: top;\n    }\n\n    .dataframe thead th {\n        text-align: right;\n    }\n</style>\n<table border=\"1\" class=\"dataframe\">\n  <thead>\n    <tr style=\"text-align: right;\">\n      <th></th>\n      <th>profit</th>\n      <th>shown</th>\n    </tr>\n    <tr>\n      <th>ad</th>\n      <th></th>\n      <th></th>\n    </tr>\n  </thead>\n  <tbody>\n    <tr>\n      <th>ad_group_1</th>\n      <td>-100802.69</td>\n      <td>3675315</td>\n    </tr>\n    <tr>\n      <th>ad_group_10</th>\n      <td>-85808.30</td>\n      <td>6120471</td>\n    </tr>\n    <tr>\n      <th>ad_group_11</th>\n      <td>-65985.38</td>\n      <td>991801</td>\n    </tr>\n    <tr>\n      <th>ad_group_12</th>\n      <td>-60901.57</td>\n      <td>1517090</td>\n    </tr>\n    <tr>\n      <th>ad_group_13</th>\n      <td>-182233.01</td>\n      <td>8237478</td>\n    </tr>\n    <tr>\n      <th>ad_group_14</th>\n      <td>7252.95</td>\n      <td>439977</td>\n    </tr>\n    <tr>\n      <th>ad_group_15</th>\n      <td>-1888.62</td>\n      <td>823597</td>\n    </tr>\n    <tr>\n      <th>ad_group_16</th>\n      <td>32179.55</td>\n      <td>1568539</td>\n    </tr>\n    <tr>\n      <th>ad_group_17</th>\n      <td>-15850.14</td>\n      <td>7392324</td>\n    </tr>\n    <tr>\n      <th>ad_group_18</th>\n      <td>-400822.23</td>\n      <td>4634466</td>\n    </tr>\n    <tr>\n      <th>ad_group_19</th>\n      <td>-179941.79</td>\n      <td>1014358</td>\n    </tr>\n    <tr>\n      <th>ad_group_2</th>\n      <td>54456.44</td>\n      <td>2707080</td>\n    </tr>\n    <tr>\n      <th>ad_group_20</th>\n      <td>-421822.75</td>\n      <td>6273230</td>\n    </tr>\n    <tr>\n      <th>ad_group_21</th>\n      <td>-5101.07</td>\n      <td>1453933</td>\n    </tr>\n    <tr>\n      <th>ad_group_22</th>\n      <td>-5101.02</td>\n      <td>1289654</td>\n    </tr>\n    <tr>\n      <th>ad_group_23</th>\n      <td>-57301.62</td>\n      <td>2476529</td>\n    </tr>\n    <tr>\n      <th>ad_group_24</th>\n      <td>-55763.86</td>\n      <td>1873742</td>\n    </tr>\n    <tr>\n      <th>ad_group_25</th>\n      <td>-23321.96</td>\n      <td>9054932</td>\n    </tr>\n    <tr>\n      <th>ad_group_26</th>\n      <td>-510406.11</td>\n      <td>3820805</td>\n    </tr>\n    <tr>\n      <th>ad_group_27</th>\n      <td>2528.73</td>\n      <td>3487872</td>\n    </tr>\n    <tr>\n      <th>ad_group_28</th>\n      <td>-140146.89</td>\n      <td>1053976</td>\n    </tr>\n    <tr>\n      <th>ad_group_29</th>\n      <td>-100634.04</td>\n      <td>1096010</td>\n    </tr>\n    <tr>\n      <th>ad_group_3</th>\n      <td>-2260971.23</td>\n      <td>8970193</td>\n    </tr>\n    <tr>\n      <th>ad_group_30</th>\n      <td>-59917.28</td>\n      <td>6168583</td>\n    </tr>\n    <tr>\n      <th>ad_group_31</th>\n      <td>40265.93</td>\n      <td>6914228</td>\n    </tr>\n    <tr>\n      <th>ad_group_32</th>\n      <td>-332060.59</td>\n      <td>2037671</td>\n    </tr>\n    <tr>\n      <th>ad_group_33</th>\n      <td>-17241.68</td>\n      <td>845032</td>\n    </tr>\n    <tr>\n      <th>ad_group_34</th>\n      <td>-63031.31</td>\n      <td>1874696</td>\n    </tr>\n    <tr>\n      <th>ad_group_35</th>\n      <td>-15035.29</td>\n      <td>3196080</td>\n    </tr>\n    <tr>\n      <th>ad_group_36</th>\n      <td>-1987.58</td>\n      <td>3552407</td>\n    </tr>\n    <tr>\n      <th>ad_group_37</th>\n      <td>-343485.18</td>\n      <td>3851341</td>\n    </tr>\n    <tr>\n      <th>ad_group_38</th>\n      <td>-756588.70</td>\n      <td>9274262</td>\n    </tr>\n    <tr>\n      <th>ad_group_39</th>\n      <td>-84212.22</td>\n      <td>1338710</td>\n    </tr>\n    <tr>\n      <th>ad_group_4</th>\n      <td>-643395.85</td>\n      <td>4799075</td>\n    </tr>\n    <tr>\n      <th>ad_group_40</th>\n      <td>-40464.42</td>\n      <td>4103501</td>\n    </tr>\n    <tr>\n      <th>ad_group_5</th>\n      <td>-168157.42</td>\n      <td>2725136</td>\n    </tr>\n    <tr>\n      <th>ad_group_6</th>\n      <td>-93731.40</td>\n      <td>2097489</td>\n    </tr>\n    <tr>\n      <th>ad_group_7</th>\n      <td>-450554.40</td>\n      <td>2956453</td>\n    </tr>\n    <tr>\n      <th>ad_group_8</th>\n      <td>-221157.50</td>\n      <td>2328735</td>\n    </tr>\n    <tr>\n      <th>ad_group_9</th>\n      <td>-441.44</td>\n      <td>6417400</td>\n    </tr>\n  </tbody>\n</table>\n</div>"
     },
     "metadata": {},
     "execution_count": 57
    }
   ],
   "source": [
    "# A new dataframe by grouping ads with total profit and number of times they are shown\n",
    "\n",
    "ad_grouped = ad_df.groupby('ad')['profit', 'shown'].sum()\n",
    "ad_grouped_df = pd.DataFrame(ad_grouped)\n",
    "ad_grouped_df"
   ]
  },
  {
   "cell_type": "code",
   "execution_count": 59,
   "metadata": {},
   "outputs": [
    {
     "output_type": "execute_result",
     "data": {
      "text/plain": "                 profit    shown  profit_per_view\nad                                               \nad_group_16    32179.55  1568539         0.020516\nad_group_2     54456.44  2707080         0.020116\nad_group_14     7252.95   439977         0.016485\nad_group_31    40265.93  6914228         0.005824\nad_group_27     2528.73  3487872         0.000725\nad_group_9      -441.44  6417400        -0.000069\nad_group_36    -1987.58  3552407        -0.000560\nad_group_17   -15850.14  7392324        -0.002144\nad_group_15    -1888.62   823597        -0.002293\nad_group_25   -23321.96  9054932        -0.002576\nad_group_21    -5101.07  1453933        -0.003508\nad_group_22    -5101.02  1289654        -0.003955\nad_group_35   -15035.29  3196080        -0.004704\nad_group_30   -59917.28  6168583        -0.009713\nad_group_40   -40464.42  4103501        -0.009861\nad_group_10   -85808.30  6120471        -0.014020\nad_group_33   -17241.68   845032        -0.020404\nad_group_13  -182233.01  8237478        -0.022122\nad_group_23   -57301.62  2476529        -0.023138\nad_group_1   -100802.69  3675315        -0.027427\nad_group_24   -55763.86  1873742        -0.029761\nad_group_34   -63031.31  1874696        -0.033622\nad_group_12   -60901.57  1517090        -0.040144\nad_group_6    -93731.40  2097489        -0.044687\nad_group_5   -168157.42  2725136        -0.061706\nad_group_39   -84212.22  1338710        -0.062905\nad_group_11   -65985.38   991801        -0.066531\nad_group_20  -421822.75  6273230        -0.067242\nad_group_38  -756588.70  9274262        -0.081579\nad_group_18  -400822.23  4634466        -0.086487\nad_group_37  -343485.18  3851341        -0.089186\nad_group_29  -100634.04  1096010        -0.091819\nad_group_8   -221157.50  2328735        -0.094969\nad_group_28  -140146.89  1053976        -0.132970\nad_group_26  -510406.11  3820805        -0.133586\nad_group_4   -643395.85  4799075        -0.134067\nad_group_7   -450554.40  2956453        -0.152397\nad_group_32  -332060.59  2037671        -0.162961\nad_group_19  -179941.79  1014358        -0.177395\nad_group_3  -2260971.23  8970193        -0.252054",
      "text/html": "<div>\n<style scoped>\n    .dataframe tbody tr th:only-of-type {\n        vertical-align: middle;\n    }\n\n    .dataframe tbody tr th {\n        vertical-align: top;\n    }\n\n    .dataframe thead th {\n        text-align: right;\n    }\n</style>\n<table border=\"1\" class=\"dataframe\">\n  <thead>\n    <tr style=\"text-align: right;\">\n      <th></th>\n      <th>profit</th>\n      <th>shown</th>\n      <th>profit_per_view</th>\n    </tr>\n    <tr>\n      <th>ad</th>\n      <th></th>\n      <th></th>\n      <th></th>\n    </tr>\n  </thead>\n  <tbody>\n    <tr>\n      <th>ad_group_16</th>\n      <td>32179.55</td>\n      <td>1568539</td>\n      <td>0.020516</td>\n    </tr>\n    <tr>\n      <th>ad_group_2</th>\n      <td>54456.44</td>\n      <td>2707080</td>\n      <td>0.020116</td>\n    </tr>\n    <tr>\n      <th>ad_group_14</th>\n      <td>7252.95</td>\n      <td>439977</td>\n      <td>0.016485</td>\n    </tr>\n    <tr>\n      <th>ad_group_31</th>\n      <td>40265.93</td>\n      <td>6914228</td>\n      <td>0.005824</td>\n    </tr>\n    <tr>\n      <th>ad_group_27</th>\n      <td>2528.73</td>\n      <td>3487872</td>\n      <td>0.000725</td>\n    </tr>\n    <tr>\n      <th>ad_group_9</th>\n      <td>-441.44</td>\n      <td>6417400</td>\n      <td>-0.000069</td>\n    </tr>\n    <tr>\n      <th>ad_group_36</th>\n      <td>-1987.58</td>\n      <td>3552407</td>\n      <td>-0.000560</td>\n    </tr>\n    <tr>\n      <th>ad_group_17</th>\n      <td>-15850.14</td>\n      <td>7392324</td>\n      <td>-0.002144</td>\n    </tr>\n    <tr>\n      <th>ad_group_15</th>\n      <td>-1888.62</td>\n      <td>823597</td>\n      <td>-0.002293</td>\n    </tr>\n    <tr>\n      <th>ad_group_25</th>\n      <td>-23321.96</td>\n      <td>9054932</td>\n      <td>-0.002576</td>\n    </tr>\n    <tr>\n      <th>ad_group_21</th>\n      <td>-5101.07</td>\n      <td>1453933</td>\n      <td>-0.003508</td>\n    </tr>\n    <tr>\n      <th>ad_group_22</th>\n      <td>-5101.02</td>\n      <td>1289654</td>\n      <td>-0.003955</td>\n    </tr>\n    <tr>\n      <th>ad_group_35</th>\n      <td>-15035.29</td>\n      <td>3196080</td>\n      <td>-0.004704</td>\n    </tr>\n    <tr>\n      <th>ad_group_30</th>\n      <td>-59917.28</td>\n      <td>6168583</td>\n      <td>-0.009713</td>\n    </tr>\n    <tr>\n      <th>ad_group_40</th>\n      <td>-40464.42</td>\n      <td>4103501</td>\n      <td>-0.009861</td>\n    </tr>\n    <tr>\n      <th>ad_group_10</th>\n      <td>-85808.30</td>\n      <td>6120471</td>\n      <td>-0.014020</td>\n    </tr>\n    <tr>\n      <th>ad_group_33</th>\n      <td>-17241.68</td>\n      <td>845032</td>\n      <td>-0.020404</td>\n    </tr>\n    <tr>\n      <th>ad_group_13</th>\n      <td>-182233.01</td>\n      <td>8237478</td>\n      <td>-0.022122</td>\n    </tr>\n    <tr>\n      <th>ad_group_23</th>\n      <td>-57301.62</td>\n      <td>2476529</td>\n      <td>-0.023138</td>\n    </tr>\n    <tr>\n      <th>ad_group_1</th>\n      <td>-100802.69</td>\n      <td>3675315</td>\n      <td>-0.027427</td>\n    </tr>\n    <tr>\n      <th>ad_group_24</th>\n      <td>-55763.86</td>\n      <td>1873742</td>\n      <td>-0.029761</td>\n    </tr>\n    <tr>\n      <th>ad_group_34</th>\n      <td>-63031.31</td>\n      <td>1874696</td>\n      <td>-0.033622</td>\n    </tr>\n    <tr>\n      <th>ad_group_12</th>\n      <td>-60901.57</td>\n      <td>1517090</td>\n      <td>-0.040144</td>\n    </tr>\n    <tr>\n      <th>ad_group_6</th>\n      <td>-93731.40</td>\n      <td>2097489</td>\n      <td>-0.044687</td>\n    </tr>\n    <tr>\n      <th>ad_group_5</th>\n      <td>-168157.42</td>\n      <td>2725136</td>\n      <td>-0.061706</td>\n    </tr>\n    <tr>\n      <th>ad_group_39</th>\n      <td>-84212.22</td>\n      <td>1338710</td>\n      <td>-0.062905</td>\n    </tr>\n    <tr>\n      <th>ad_group_11</th>\n      <td>-65985.38</td>\n      <td>991801</td>\n      <td>-0.066531</td>\n    </tr>\n    <tr>\n      <th>ad_group_20</th>\n      <td>-421822.75</td>\n      <td>6273230</td>\n      <td>-0.067242</td>\n    </tr>\n    <tr>\n      <th>ad_group_38</th>\n      <td>-756588.70</td>\n      <td>9274262</td>\n      <td>-0.081579</td>\n    </tr>\n    <tr>\n      <th>ad_group_18</th>\n      <td>-400822.23</td>\n      <td>4634466</td>\n      <td>-0.086487</td>\n    </tr>\n    <tr>\n      <th>ad_group_37</th>\n      <td>-343485.18</td>\n      <td>3851341</td>\n      <td>-0.089186</td>\n    </tr>\n    <tr>\n      <th>ad_group_29</th>\n      <td>-100634.04</td>\n      <td>1096010</td>\n      <td>-0.091819</td>\n    </tr>\n    <tr>\n      <th>ad_group_8</th>\n      <td>-221157.50</td>\n      <td>2328735</td>\n      <td>-0.094969</td>\n    </tr>\n    <tr>\n      <th>ad_group_28</th>\n      <td>-140146.89</td>\n      <td>1053976</td>\n      <td>-0.132970</td>\n    </tr>\n    <tr>\n      <th>ad_group_26</th>\n      <td>-510406.11</td>\n      <td>3820805</td>\n      <td>-0.133586</td>\n    </tr>\n    <tr>\n      <th>ad_group_4</th>\n      <td>-643395.85</td>\n      <td>4799075</td>\n      <td>-0.134067</td>\n    </tr>\n    <tr>\n      <th>ad_group_7</th>\n      <td>-450554.40</td>\n      <td>2956453</td>\n      <td>-0.152397</td>\n    </tr>\n    <tr>\n      <th>ad_group_32</th>\n      <td>-332060.59</td>\n      <td>2037671</td>\n      <td>-0.162961</td>\n    </tr>\n    <tr>\n      <th>ad_group_19</th>\n      <td>-179941.79</td>\n      <td>1014358</td>\n      <td>-0.177395</td>\n    </tr>\n    <tr>\n      <th>ad_group_3</th>\n      <td>-2260971.23</td>\n      <td>8970193</td>\n      <td>-0.252054</td>\n    </tr>\n  </tbody>\n</table>\n</div>"
     },
     "metadata": {},
     "execution_count": 59
    }
   ],
   "source": [
    "# Calculating the profit made by each ad per one show\n",
    "\n",
    "ad_grouped_df['profit_per_view'] = ad_grouped_df['profit']/ad_grouped_df['shown']\n",
    "\n",
    "# sorting ad groups according to profit per view\n",
    "ad_grouped_df = ad_grouped_df.sort_values(by='profit_per_view', ascending=False)\n",
    "\n",
    "ad_grouped_df"
   ]
  },
  {
   "cell_type": "code",
   "execution_count": 61,
   "metadata": {},
   "outputs": [
    {
     "output_type": "execute_result",
     "data": {
      "text/plain": "ad\nad_group_16    0.020516\nad_group_2     0.020116\nad_group_14    0.016485\nad_group_31    0.005824\nad_group_27    0.000725\nName: profit_per_view, dtype: float64"
     },
     "metadata": {},
     "execution_count": 61
    }
   ],
   "source": [
    "# Hence the top five ads based on their profits per one show are as follows\n",
    "ad_grouped_df[0:5]['profit_per_view']"
   ]
  },
  {
   "cell_type": "markdown",
   "metadata": {},
   "source": [
    "# Challenge Question 2"
   ]
  },
  {
   "cell_type": "markdown",
   "metadata": {},
   "source": [
    "*     Cluster ads into 3 groups: the ones whose avg_cost_per_click is going up, the ones\n",
    "        whose avg_cost_per_click is flat and the ones whose avg_cost_per_click is going down."
   ]
  },
  {
   "cell_type": "code",
   "execution_count": null,
   "metadata": {},
   "outputs": [],
   "source": [
    "# Clustring clicks per cost into three classes of increasing "
   ]
  }
 ]
}